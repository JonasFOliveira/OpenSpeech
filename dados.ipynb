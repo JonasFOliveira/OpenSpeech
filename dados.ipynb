{
 "cells": [
  {
   "cell_type": "code",
   "execution_count": null,
   "metadata": {},
   "outputs": [],
   "source": [
    "import requests\n",
    "import re\n",
    "import pandas as pd\n",
    "from bs4 import BeautifulSoup\n",
    "import os\n",
    "import functions"
   ]
  },
  {
   "cell_type": "markdown",
   "metadata": {},
   "source": [
    "### 0) Configuração de pré-pesquisa\n",
    "Aqui será configurado as informaçoes fornecidas para a pesquisa, como a data de inicio e fim da busca, tamanho da visualização e UF(Unidade Federativa) que será pesquisado os discursos."
   ]
  },
  {
   "cell_type": "code",
   "execution_count": null,
   "metadata": {},
   "outputs": [],
   "source": [
    "#formato de data = {dd, mm, aaaa}\n",
    "data_inicio = [28, 3, 2022]\n",
    "data_fim = [28, 4, 2022]\n",
    "#tamanho = quantidade de linhas de informações por página (limite 1788 pq? não sabemos)\n",
    "tamanho = 100\n",
    "current_page = 1\n",
    "#Estado onde será realizada a pesquisa ('' para todos)\n",
    "UF = ''\n",
    "\n",
    "url = f'https://www.camara.leg.br/internet/SitaqWeb/ResultadoPesquisaDiscursos.asp?CurrentPage={current_page}&txIndexacao=&BasePesq=plenario&txOrador=&txPartido=&dtInicio={data_inicio[0]}/{data_inicio[1]}/{data_inicio[2]}&dtFim={data_fim[0]}/{data_fim[1]}/{data_fim[2]}&txUF={UF}&txSessao=&listaTipoSessao=&listaTipoInterv=&inFalaPres=&listaTipoFala=&listaFaseSessao=&txAparteante=&listaEtapa=&CampoOrdenacao=dtSessao&TipoOrdenacao=ASC&PageSize={tamanho}&txTexto=&txSumario='\n",
    "      "
   ]
  },
  {
   "cell_type": "code",
   "execution_count": null,
   "metadata": {},
   "outputs": [],
   "source": [
    "html = requests.get(url)\n",
    "\n",
    "content = html.content\n",
    "\n",
    "soup = BeautifulSoup(content, 'html.parser')"
   ]
  },
  {
   "cell_type": "code",
   "execution_count": null,
   "metadata": {},
   "outputs": [],
   "source": [
    "quantidade_de_discursos= []\n",
    "qpt = 0 #quantidade de paginas totais\n",
    "\n",
    "for links in soup.find_all('span', attrs={'class':\"visualStrong\"}):\n",
    "    quantidade_de_discursos.append(links.contents)\n",
    "qpt= int(((int((quantidade_de_discursos[len(quantidade_de_discursos)-1][0]).replace('.','')))/tamanho)+1)\n",
    "qpt\n",
    "quantidade_de_discursos"
   ]
  },
  {
   "cell_type": "code",
   "execution_count": null,
   "metadata": {},
   "outputs": [],
   "source": [
    "\n",
    "def UrlToSoup(url):\n",
    "    html = requests.get(url)\n",
    "    content = html.content\n",
    "    return BeautifulSoup(content, 'html.parser')"
   ]
  },
  {
   "cell_type": "markdown",
   "metadata": {},
   "source": [
    "### 1) Criar um data frame com as informações do site"
   ]
  },
  {
   "cell_type": "code",
   "execution_count": null,
   "metadata": {},
   "outputs": [],
   "source": [
    "url = f'https://www.camara.leg.br/internet/SitaqWeb/ResultadoPesquisaDiscursos.asp?txOrador=&txPartido=&txUF={UF}&dtInicio={data_inicio[0]}%2F{data_inicio[1]}%2F{data_inicio[2]}&dtFim={data_fim[0]}%2F{data_fim[1]}%2F{data_fim[2]}&txSessao=&listaTipoFala=&listaFaseSessao=&listaTipoInterv=&txAparteante=&txTexto=&txSumario=&txIndexacao=&BasePesq=plenario&CampoOrdenacao=dtSessao&PageSize={tamanho}&TipoOrdenacao=ASC&btnPesqAvan=Pesquisar'\n",
    "\n",
    "html = requests.get(url)\n",
    "\n",
    "content = html.content\n",
    "\n",
    "soup = BeautifulSoup(content, 'html.parser')\n",
    "\n",
    "print(url)"
   ]
  },
  {
   "cell_type": "code",
   "execution_count": null,
   "metadata": {},
   "outputs": [],
   "source": [
    "data_frame = [None]*qpt\n",
    "for i in range(qpt):\n",
    "    current_page = i+1\n",
    "    url = f'https://www.camara.leg.br/internet/SitaqWeb/ResultadoPesquisaDiscursos.asp?CurrentPage={current_page}&txIndexacao=&BasePesq=plenario&txOrador=&txPartido=&dtInicio={data_inicio[0]}/{data_inicio[1]}/{data_inicio[2]}&dtFim={data_fim[0]}/{data_fim[1]}/{data_fim[2]}&txUF={UF}&txSessao=&listaTipoSessao=&listaTipoInterv=&inFalaPres=&listaTipoFala=&listaFaseSessao=&txAparteante=&listaEtapa=&CampoOrdenacao=dtSessao&TipoOrdenacao=ASC&PageSize={tamanho}&txTexto=&txSumario='\n",
    "    data_frame[i] = pd.read_html(url)\n"
   ]
  },
  {
   "cell_type": "code",
   "execution_count": null,
   "metadata": {},
   "outputs": [],
   "source": [
    "data_frame[0][0]"
   ]
  },
  {
   "cell_type": "markdown",
   "metadata": {},
   "source": [
    "### 2) Criar uma lista com todos os links para os discursos"
   ]
  },
  {
   "cell_type": "code",
   "execution_count": null,
   "metadata": {},
   "outputs": [],
   "source": [
    "link_infos= []\n",
    "soup = []\n",
    "temp = []\n",
    "for i in range(qpt):\n",
    "        current_page = i+1\n",
    "        url = f'https://www.camara.leg.br/internet/SitaqWeb/ResultadoPesquisaDiscursos.asp?CurrentPage={current_page}&txIndexacao=&BasePesq=plenario&txOrador=&txPartido=&dtInicio={data_inicio[0]}/{data_inicio[1]}/{data_inicio[2]}&dtFim={data_fim[0]}/{data_fim[1]}/{data_fim[2]}&txUF={UF}&txSessao=&listaTipoSessao=&listaTipoInterv=&inFalaPres=&listaTipoFala=&listaFaseSessao=&txAparteante=&listaEtapa=&CampoOrdenacao=dtSessao&TipoOrdenacao=ASC&PageSize={tamanho}&txTexto=&txSumario='\n",
    "        soup.append(UrlToSoup(url))\n",
    "        for links in soup[i].find_all('a', attrs={'title':\"Íntegra do Discurso\"}):\n",
    "            temp.append((links['href']))\n",
    "        link_infos.append(temp)\n",
    "        temp = []\n"
   ]
  },
  {
   "cell_type": "code",
   "execution_count": null,
   "metadata": {},
   "outputs": [],
   "source": [
    "link_infos"
   ]
  },
  {
   "cell_type": "code",
   "execution_count": null,
   "metadata": {},
   "outputs": [],
   "source": [
    "len(link_infos[0])"
   ]
  },
  {
   "cell_type": "code",
   "execution_count": null,
   "metadata": {},
   "outputs": [],
   "source": [
    "linkDiscurso = []\n",
    "temp = []\n",
    "for i in range(qpt):\n",
    "    for item in link_infos[i]:\n",
    "        text = item.replace('\\t','').replace('\\n','').replace('\\r','').replace(' ','')\n",
    "        temp.append((\"https://www.camara.leg.br/internet/SitaqWeb/\"+text))\n",
    "    linkDiscurso.append(temp)\n",
    "    temp = []"
   ]
  },
  {
   "cell_type": "code",
   "execution_count": null,
   "metadata": {},
   "outputs": [],
   "source": [
    "len(linkDiscurso[0])"
   ]
  },
  {
   "cell_type": "code",
   "execution_count": null,
   "metadata": {},
   "outputs": [],
   "source": [
    "len(linkDiscurso[0])"
   ]
  },
  {
   "cell_type": "code",
   "execution_count": null,
   "metadata": {},
   "outputs": [],
   "source": [
    "linkDiscurso"
   ]
  },
  {
   "cell_type": "code",
   "execution_count": null,
   "metadata": {},
   "outputs": [],
   "source": [
    "txt = []\n",
    "for script in linkDiscurso[0]:\n",
    "    url_script = UrlToSoup(script).find_all(\"font\")\n",
    "    txt.append((str((url_script[0].contents)) + \"+\" + str((url_script[1].contents))).replace('<br/>','').replace('<b>', '').replace('</b>', '').replace('\\'', ''))\n",
    "txt\n"
   ]
  },
  {
   "cell_type": "code",
   "execution_count": null,
   "metadata": {},
   "outputs": [],
   "source": [
    "for i in range(len(txt)):\n",
    "    if not(os.path.exists(f\"./discursos/file_{i}.txt\")):\n",
    "        textfile = open(f\"./discursos/file_{i}.txt\", \"x\")\n",
    "        textfile.close()"
   ]
  },
  {
   "cell_type": "code",
   "execution_count": null,
   "metadata": {},
   "outputs": [],
   "source": [
    "for i in range(len(txt)):\n",
    "\n",
    "    textfile = open(f\"./discursos/file_{i}.txt\", \"w\")\n",
    "    textfile.write(txt[i] + \"\\n\")\n",
    "    textfile.close()"
   ]
  },
  {
   "cell_type": "code",
   "execution_count": null,
   "metadata": {},
   "outputs": [],
   "source": [
    "id_list = []\n",
    "id = []\n",
    "for i in range(len(linkDiscurso[0])):\n",
    "    id.append('nI:')\n",
    "    id.append((re.findall(r'(?<=nuInsercao=)\\d+', linkDiscurso[0][i]))[0])\n",
    "    id.append(\"nQ:\")\n",
    "    id.append((re.findall(r'(?<=nuQuarto=)\\d+', linkDiscurso[0][i]))[0])\n",
    "    id.append(\"nS:\")\n",
    "    id.append((re.findall(r'(?<=nuSessao=)\\d+', linkDiscurso[0][i]))[0])\n",
    "    id.append(\"nO\")\n",
    "    id.append((re.findall(r'(?<=nuOrador=)\\d+', linkDiscurso[0][i]))[0])\n",
    "    id_list.append(\"\".join(id))\n",
    "    id = []\n",
    "\n",
    "\n"
   ]
  },
  {
   "cell_type": "code",
   "execution_count": null,
   "metadata": {},
   "outputs": [],
   "source": [
    "id_list"
   ]
  },
  {
   "cell_type": "code",
   "execution_count": null,
   "metadata": {},
   "outputs": [],
   "source": [
    "data_frame[0][0]['Id'] = id_list"
   ]
  },
  {
   "cell_type": "code",
   "execution_count": null,
   "metadata": {},
   "outputs": [],
   "source": [
    "data_frame[0][0]"
   ]
  },
  {
   "cell_type": "code",
   "execution_count": null,
   "metadata": {},
   "outputs": [],
   "source": [
    "for col in data_frame[0][0]:\n",
    "    print(data_frame[0][0][col].unique())"
   ]
  },
  {
   "cell_type": "code",
   "execution_count": null,
   "metadata": {},
   "outputs": [],
   "source": [
    "data_frame[0][0]['Id'].nunique()"
   ]
  },
  {
   "cell_type": "code",
   "execution_count": null,
   "metadata": {},
   "outputs": [],
   "source": []
  }
 ],
 "metadata": {
  "interpreter": {
   "hash": "916dbcbb3f70747c44a77c7bcd40155683ae19c65e1c03b4aa3499c5328201f1"
  },
  "kernelspec": {
   "display_name": "Python 3.8.10 64-bit",
   "language": "python",
   "name": "python3"
  },
  "language_info": {
   "codemirror_mode": {
    "name": "ipython",
    "version": 3
   },
   "file_extension": ".py",
   "mimetype": "text/x-python",
   "name": "python",
   "nbconvert_exporter": "python",
   "pygments_lexer": "ipython3",
   "version": "3.8.10"
  },
  "orig_nbformat": 4
 },
 "nbformat": 4,
 "nbformat_minor": 2
}
