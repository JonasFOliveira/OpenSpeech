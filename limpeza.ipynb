{
 "cells": [
  {
   "cell_type": "code",
   "execution_count": 68,
   "metadata": {},
   "outputs": [],
   "source": [
    "import os\n",
    "import re\n",
    "import pandas as pd"
   ]
  },
  {
   "cell_type": "markdown",
   "metadata": {},
   "source": [
    "# Limpeza dos discursos"
   ]
  },
  {
   "cell_type": "markdown",
   "metadata": {},
   "source": [
    "## 1 Criando uma lista com todos os discursos"
   ]
  },
  {
   "cell_type": "code",
   "execution_count": 57,
   "metadata": {},
   "outputs": [],
   "source": [
    "# file = open('discursos/nI1nQ0nS011nO0.txt', 'r')\n",
    "# text = file.read()\n",
    "# file.close\n",
    "# text"
   ]
  },
  {
   "cell_type": "code",
   "execution_count": 69,
   "metadata": {},
   "outputs": [],
   "source": [
    "discursos = []\n",
    "for i in os.listdir('discursos'):\n",
    "    file = open(f'discursos/{i}', 'r')\n",
    "    text = file.read()\n",
    "    discursos.append(text)\n",
    "    file.close  \n"
   ]
  },
  {
   "cell_type": "code",
   "execution_count": 70,
   "metadata": {},
   "outputs": [],
   "source": [
    "discursos = pd.Series(discursos)"
   ]
  },
  {
   "cell_type": "code",
   "execution_count": 61,
   "metadata": {},
   "outputs": [],
   "source": [
    "#Criando lista com todos os conectivos da lingua portuguesa\n",
    "conectivos = pd.read_html('https://duvidas.dicio.com.br/conectivos/')\n",
    "\n",
    "a = conectivos[0]['Exemplos:']\n",
    "conectivos_lista = []\n",
    "for i in a:\n",
    "    conectivos_lista.append(i)\n",
    "conectivos_lista = \" \".join(conectivos_lista)\n",
    "\n",
    "conectivos_lista = conectivos_lista.replace('; ', ' ').replace('… ', ' ').split(' ')\n",
    "conectivos_lista = list(dict.fromkeys(conectivos_lista))\n"
   ]
  },
  {
   "cell_type": "markdown",
   "metadata": {},
   "source": [
    "## 2 Verificando se houve revisão nos discursos"
   ]
  },
  {
   "cell_type": "code",
   "execution_count": 71,
   "metadata": {},
   "outputs": [],
   "source": [
    "revisado = []\n",
    "for i in range(len(discursos)):\n",
    "    if(re.search(r'Sem revisão', discursos[i])):\n",
    "        revisado.append(False)\n",
    "    else:\n",
    "        revisado.append(True)\n",
    "revisao = pd.Series(revisado)"
   ]
  },
  {
   "cell_type": "code",
   "execution_count": 65,
   "metadata": {},
   "outputs": [],
   "source": [
    "discursos = pd.Series(df_discursos)\n",
    "\n",
    "\n",
    "df_discursos = {\"discursos\" : discursos,\n",
    "                \"revisao\" : revisao}\n",
    "df_discursos = pd.concat(df_discursos, axis=1)"
   ]
  },
  {
   "cell_type": "code",
   "execution_count": null,
   "metadata": {},
   "outputs": [],
   "source": []
  },
  {
   "cell_type": "code",
   "execution_count": null,
   "metadata": {},
   "outputs": [],
   "source": []
  },
  {
   "cell_type": "code",
   "execution_count": null,
   "metadata": {},
   "outputs": [],
   "source": []
  }
 ],
 "metadata": {
  "kernelspec": {
   "display_name": "Python 3.8.10 64-bit",
   "language": "python",
   "name": "python3"
  },
  "language_info": {
   "codemirror_mode": {
    "name": "ipython",
    "version": 3
   },
   "file_extension": ".py",
   "mimetype": "text/x-python",
   "name": "python",
   "nbconvert_exporter": "python",
   "pygments_lexer": "ipython3",
   "version": "3.8.10"
  },
  "orig_nbformat": 4,
  "vscode": {
   "interpreter": {
    "hash": "916dbcbb3f70747c44a77c7bcd40155683ae19c65e1c03b4aa3499c5328201f1"
   }
  }
 },
 "nbformat": 4,
 "nbformat_minor": 2
}
