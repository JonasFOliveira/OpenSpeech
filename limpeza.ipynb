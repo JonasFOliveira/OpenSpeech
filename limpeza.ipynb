{
 "cells": [
  {
   "cell_type": "code",
   "execution_count": 68,
   "metadata": {},
   "outputs": [],
   "source": [
    "import os\n",
    "import re\n",
    "import pandas as pd"
   ]
  },
  {
   "cell_type": "markdown",
   "metadata": {},
   "source": [
    "# Limpeza dos discursos"
   ]
  },
  {
   "cell_type": "markdown",
   "metadata": {},
   "source": [
    "## 1 Criando uma lista com todos os discursos"
   ]
  },
  {
   "cell_type": "code",
   "execution_count": 57,
   "metadata": {},
   "outputs": [],
   "source": [
    "# file = open('discursos/nI1nQ0nS011nO0.txt', 'r')\n",
    "# text = file.read()\n",
    "# file.close\n",
    "# text"
   ]
  },
  {
   "cell_type": "code",
   "execution_count": 69,
   "metadata": {},
   "outputs": [],
   "source": [
    "discursos = []\n",
    "for i in os.listdir('discursos'):\n",
    "    file = open(f'discursos/{i}', 'r')\n",
    "    text = file.read()\n",
    "    discursos.append(text)\n",
    "    file.close  \n"
   ]
  },
  {
   "cell_type": "code",
   "execution_count": 70,
   "metadata": {},
   "outputs": [],
   "source": [
    "discursos = pd.Series(discursos)"
   ]
  },
  {
   "cell_type": "code",
   "execution_count": 61,
   "metadata": {},
   "outputs": [],
   "source": [
    "#Criando lista com todos os conectivos da lingua portuguesa\n",
    "conectivos = pd.read_html('https://duvidas.dicio.com.br/conectivos/')\n",
    "\n",
    "a = conectivos[0]['Exemplos:']\n",
    "conectivos_lista = []\n",
    "for i in a:\n",
    "    conectivos_lista.append(i)\n",
    "conectivos_lista = \" \".join(conectivos_lista)\n",
    "\n",
    "conectivos_lista = conectivos_lista.replace('; ', ' ').replace('… ', ' ').split(' ')\n",
    "conectivos_lista = list(dict.fromkeys(conectivos_lista))\n"
   ]
  },
  {
   "cell_type": "markdown",
   "metadata": {},
   "source": [
    "## 2 Verificando se houve revisão nos discursos"
   ]
  },
  {
   "cell_type": "code",
   "execution_count": 73,
   "metadata": {},
   "outputs": [],
   "source": [
    "revisado = []\n",
    "for i in range(len(discursos)):\n",
    "    if(re.search(r'Sem revisão', discursos[i])):\n",
    "        revisado.append(False)\n",
    "    else:\n",
    "        revisado.append(True)\n",
    "revisao = pd.Series(revisado)"
   ]
  },
  {
   "cell_type": "code",
   "execution_count": 74,
   "metadata": {},
   "outputs": [],
   "source": [
    "df_discursos = {\"discursos\" : discursos,\n",
    "                \"revisao\" : revisao}\n",
    "df_discursos = pd.concat(df_discursos, axis=1)"
   ]
  },
  {
   "cell_type": "markdown",
   "metadata": {},
   "source": [
    "## 3 Limpando os discurso"
   ]
  },
  {
   "cell_type": "code",
   "execution_count": 76,
   "metadata": {},
   "outputs": [],
   "source": [
    "toClear = df_discursos['discursos'][0]"
   ]
  },
  {
   "cell_type": "code",
   "execution_count": 77,
   "metadata": {},
   "outputs": [
    {
     "data": {
      "text/plain": [
       "'[O SR. FRANCO CARTAFINA ]+[(PP - MG. Sem revisão do orador.) - Muito obrigado, Presidente., , Volto, mais uma vez, a essa tribuna para dizer que nós apresentamos o Projeto de Lei nº 2.467, no ano passado, que aguarda, obviamente, os pareceres das Comissões, especialmente o parecer da Comissão de Viação e Transportes. Eu acredito que, em breve, nós teremos as Comissões instaladas. Ele trata especificamente do Código de Trânsito Brasileiro e de resoluções do CONTRAN e da ANP, que simplesmente proíbem que a nossa turma - e aqui vai um recado para todos do Brasil, especialmente para aqueles de Minas Gerais - faça a distribuição de gás de cozinha e de água mineral., , Eles não podem, através dessas resoluções, fazer o transporte em uma motocicleta de dois botijões de gás de cozinha ou de dois galões de 20 litros de água mineral. Foi estabelecido que seria obrigatório que eles fizessem isso - está estabelecido em resoluções, como eu disse aqui - por meio do , <i>sidecar</i>,  ou do reboque, que são absolutamente onerosos para esses empresários, que têm muitos funcionários. Hoje, quando vão fazer entrega nos Municípios, quando precisam ir ao centro da cidade, ir a locais onde o fluxo de automóveis é muito grande, com o , <i>sidecar</i>,  ou o semirreboque é muito complicado estacionar nesses locais. Por isso, defendemos totalmente que, com as adequações do INMETRO, com tudo sendo regularizado, eles possam transportar dois botijões de gás ou dois galões de água mineral na motocicleta. Isso poderia tranquilamente acontecer. Afinal, se a questão a que nos referimos é o perigo, se o acidente acontecer com uma moto com dois galões de água ou dois botijões de gás de cozinha, o , <i>sidecar</i>,  ou o reboque vão ter 4, 5 ou 6 botijões ou galões., , Então, a minha sensibilidade é porque, no momento em que vemos o preço do gás de cozinha subindo, seria muito melhor que esta Casa desburocratizasse o transporte, a entrega desses distribuidores, que estão sofrendo lá na ponta para entregar essas questões elementares, tanto o galão de água, quanto o botijão de gás, para as famílias. Estamos tentando demonstrar que não faz sentido essa proibição, porque, quando oneramos o distribuidor, naturalmente essa despesa vai lá para a ponta, para o consumidor., , Fica aqui, então, mais uma vez, a minha defesa aos distribuidores de gás e de água. Espero que possamos avançar com esse projeto e mudar a realidade que é hoje instalada pela legislação no Brasil.]\\n'"
      ]
     },
     "execution_count": 77,
     "metadata": {},
     "output_type": "execute_result"
    }
   ],
   "source": [
    "toClear"
   ]
  },
  {
   "cell_type": "code",
   "execution_count": null,
   "metadata": {},
   "outputs": [],
   "source": []
  }
 ],
 "metadata": {
  "kernelspec": {
   "display_name": "Python 3.8.10 64-bit",
   "language": "python",
   "name": "python3"
  },
  "language_info": {
   "codemirror_mode": {
    "name": "ipython",
    "version": 3
   },
   "file_extension": ".py",
   "mimetype": "text/x-python",
   "name": "python",
   "nbconvert_exporter": "python",
   "pygments_lexer": "ipython3",
   "version": "3.8.10"
  },
  "orig_nbformat": 4,
  "vscode": {
   "interpreter": {
    "hash": "916dbcbb3f70747c44a77c7bcd40155683ae19c65e1c03b4aa3499c5328201f1"
   }
  }
 },
 "nbformat": 4,
 "nbformat_minor": 2
}
