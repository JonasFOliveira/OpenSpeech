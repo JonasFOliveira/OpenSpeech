{
 "cells": [
  {
   "cell_type": "code",
   "execution_count": 222,
   "metadata": {},
   "outputs": [],
   "source": [
    "import os\n",
    "import re\n",
    "import pandas as pd"
   ]
  },
  {
   "cell_type": "markdown",
   "metadata": {},
   "source": [
    "# Limpeza dos discursos"
   ]
  },
  {
   "cell_type": "markdown",
   "metadata": {},
   "source": [
    "## 1 Criando uma lista com todos os discursos"
   ]
  },
  {
   "cell_type": "code",
   "execution_count": 223,
   "metadata": {},
   "outputs": [],
   "source": [
    "# Recebendo os discursos\n",
    "discursos = []\n",
    "for j in os.listdir('discursos'):\n",
    "    file = open(f'discursos/{j}', 'r', encoding=\"utf-8\")\n",
    "    text = file.read()\n",
    "    discursos.append(text)\n",
    "    file.close  \n"
   ]
  },
  {
   "cell_type": "code",
   "execution_count": 224,
   "metadata": {},
   "outputs": [],
   "source": [
    "discursos = pd.Series(discursos)"
   ]
  },
  {
   "cell_type": "code",
   "execution_count": 225,
   "metadata": {},
   "outputs": [],
   "source": [
    "# #Criando lista com todos os conectivos da lingua portuguesa\n",
    "# conectivos = pd.read_html('https://duvidas.dicio.com.br/conectivos/')\n",
    "\n",
    "# a = conectivos[0]['Exemplos:']\n",
    "# conectivos_lista = []\n",
    "# for j in a:\n",
    "#     conectivos_lista.append(j.upper())\n",
    "# conectivos_lista = \" \".join(conectivos_lista)\n",
    "\n",
    "# conectivos_lista = conectivos_lista.replace('; ', ' ').replace('… ', ' ').split(' ')\n",
    "# conectivos_lista = list(dict.fromkeys(conectivos_lista))\n",
    "# outros_conectivos = ['OS', 'E', 'UM', 'UMA']\n",
    "# for i in outros_conectivos:\n",
    "#     conectivos_lista.append(i)\n",
    "# conectivos_lista = sorted(conectivos_lista)"
   ]
  },
  {
   "cell_type": "code",
   "execution_count": 226,
   "metadata": {},
   "outputs": [],
   "source": [
    "from stop_words import get_stop_words\n",
    "conectivos_lista = get_stop_words('pt')\n",
    "conectivos_lista = [sw.upper() for sw in conectivos_lista]\n",
    "conectivos_lista.append('É')"
   ]
  },
  {
   "cell_type": "markdown",
   "metadata": {},
   "source": [
    "## 2 Verificando se houve revisão nos discursos"
   ]
  },
  {
   "cell_type": "code",
   "execution_count": 227,
   "metadata": {},
   "outputs": [],
   "source": [
    "revisado = []\n",
    "for j in range(len(discursos)):\n",
    "    if(re.search(r'Sem revisão', discursos[j])):\n",
    "        revisado.append(False)\n",
    "    else:\n",
    "        revisado.append(True)\n",
    "revisao = pd.Series(revisado)"
   ]
  },
  {
   "cell_type": "code",
   "execution_count": 228,
   "metadata": {},
   "outputs": [],
   "source": [
    "df_discursos = {\"discursos\" : discursos,\n",
    "                \"revisao\" : revisao}\n",
    "df_discursos = pd.concat(df_discursos, axis=1)"
   ]
  },
  {
   "cell_type": "markdown",
   "metadata": {},
   "source": [
    "## 3 Limpando os discurso"
   ]
  },
  {
   "cell_type": "code",
   "execution_count": 229,
   "metadata": {},
   "outputs": [],
   "source": [
    "from stop_words import get_stop_words\n",
    "conectivos_lista = []\n",
    "conectivos_lista = get_stop_words('pt')\n",
    "conectivos_lista.append('é')\n",
    "conectivos_lista = [conectivo.upper() for conectivo in conectivos_lista]"
   ]
  },
  {
   "cell_type": "code",
   "execution_count": 230,
   "metadata": {},
   "outputs": [],
   "source": [
    "#Retirando a introdução\n",
    "discursos = df_discursos['discursos'].str.split('.\\) -')\n",
    "df_discursos['discursos'] = [i[1:] for i in discursos]\n",
    "\n",
    "discursos_lista = []\n",
    "discurso_limpo = []\n",
    "\n",
    "for i in df_discursos['discursos']:\n",
    "    discursos_lista.append(\" \".join(i))\n",
    "\n",
    "termos_discursos = []\n",
    "for i in range(len(discursos_lista)):\n",
    "\n",
    "    #Retirando os sons ambientes\n",
    "    sons_ambiente = ['<tr><td align=\"center\">(<i>Soa a campainha.</i>)</td></tr></table>', '<i>(Palmas.)</i>']\n",
    "    for j in sons_ambiente:\n",
    "        discursos_lista[i] = discursos_lista[i].replace(j, '')\n",
    "    \n",
    "    #Retirando as tags\n",
    "    tags = ['<i>', '</i>', f'\\n']\n",
    "    for j in tags:\n",
    "        discursos_lista[i] = discursos_lista[i].replace(j, '')\n",
    "\n",
    "    #Retirando pontuacoes\n",
    "    pontuacoes = ['.', ':', '...', '(', ')', '[', ']', '{', '}', '!', '?', ',', ';', '-', '_', \"'\", \"\\\"\", \"nº\", '<', '>', '\\\\', '|', '/', ', , ', ']\\n']\n",
    "    for j in pontuacoes:\n",
    "        discursos_lista[i] = discursos_lista[i].replace(j, '')\n",
    "\n",
    "    #retirando numeros\n",
    "    for j in range(10):\n",
    "        discursos_lista[i] = discursos_lista[i].replace(str(j), '')\n",
    "\n",
    "    discurso_limpo.append(discursos_lista[i])\n",
    "    discursos_lista[i] = discursos_lista[i].split(' ')\n",
    "    \n",
    "    #separando os termos e retirando conectivos\n",
    "    termos = []\n",
    "    for j in range(len(discursos_lista[i])):\n",
    "        if (discursos_lista[i][j] != '') and (type(discursos_lista[i][j]) == str):\n",
    "            termos.append(discursos_lista[i][j].upper())\n",
    "    termos = [termo for termo in termos if not termo in conectivos_lista]\n",
    "    termos_discursos.append(termos)\n",
    "\n",
    "\n",
    "df_discursos['discursos'] = discurso_limpo\n",
    "df_discursos['termos'] = [pd.Series(i) for i in termos_discursos]\n",
    "\n"
   ]
  },
  {
   "cell_type": "code",
   "execution_count": 231,
   "metadata": {},
   "outputs": [
    {
     "data": {
      "text/html": [
       "<div>\n",
       "<style scoped>\n",
       "    .dataframe tbody tr th:only-of-type {\n",
       "        vertical-align: middle;\n",
       "    }\n",
       "\n",
       "    .dataframe tbody tr th {\n",
       "        vertical-align: top;\n",
       "    }\n",
       "\n",
       "    .dataframe thead th {\n",
       "        text-align: right;\n",
       "    }\n",
       "</style>\n",
       "<table border=\"1\" class=\"dataframe\">\n",
       "  <thead>\n",
       "    <tr style=\"text-align: right;\">\n",
       "      <th></th>\n",
       "      <th>discursos</th>\n",
       "      <th>revisao</th>\n",
       "      <th>termos</th>\n",
       "    </tr>\n",
       "  </thead>\n",
       "  <tbody>\n",
       "    <tr>\n",
       "      <th>0</th>\n",
       "      <td>Muito obrigado Presidente  Volto mais uma vez...</td>\n",
       "      <td>False</td>\n",
       "      <td>0        OBRIGADO\n",
       "1      PRESIDENTE\n",
       "2         ...</td>\n",
       "    </tr>\n",
       "    <tr>\n",
       "      <th>1</th>\n",
       "      <td>Presidente nós da Oposição estamos defendendo...</td>\n",
       "      <td>False</td>\n",
       "      <td>0      PRESIDENTE\n",
       "1        OPOSIÇÃO\n",
       "2      DEF...</td>\n",
       "    </tr>\n",
       "    <tr>\n",
       "      <th>2</th>\n",
       "      <td>Povo brasileiro eles têm método  Bolsonaro va...</td>\n",
       "      <td>False</td>\n",
       "      <td>0            POVO\n",
       "1      BRASILEIRO\n",
       "2         ...</td>\n",
       "    </tr>\n",
       "    <tr>\n",
       "      <th>3</th>\n",
       "      <td>Sr Presidente inicio dizendo à Deputada Bia K...</td>\n",
       "      <td>False</td>\n",
       "      <td>0                  SR\n",
       "1          PRESIDENTE\n",
       "2 ...</td>\n",
       "    </tr>\n",
       "    <tr>\n",
       "      <th>4</th>\n",
       "      <td>Obrigado Presidente Luiz Lima  Quero cumprime...</td>\n",
       "      <td>False</td>\n",
       "      <td>0        OBRIGADO\n",
       "1      PRESIDENTE\n",
       "2         ...</td>\n",
       "    </tr>\n",
       "    <tr>\n",
       "      <th>...</th>\n",
       "      <td>...</td>\n",
       "      <td>...</td>\n",
       "      <td>...</td>\n",
       "    </tr>\n",
       "    <tr>\n",
       "      <th>95</th>\n",
       "      <td>O PT orienta sim Presidente porque este Congr...</td>\n",
       "      <td>False</td>\n",
       "      <td>0             PT\n",
       "1        ORIENTA\n",
       "2           ...</td>\n",
       "    </tr>\n",
       "    <tr>\n",
       "      <th>96</th>\n",
       "      <td>Presidente Marcelo Ramos quero trazer aqui a ...</td>\n",
       "      <td>False</td>\n",
       "      <td>0      PRESIDENTE\n",
       "1         MARCELO\n",
       "2         ...</td>\n",
       "    </tr>\n",
       "    <tr>\n",
       "      <th>97</th>\n",
       "      <td>Sr Presidente muito obrigado pela gentileza  ...</td>\n",
       "      <td>False</td>\n",
       "      <td>0             SR\n",
       "1     PRESIDENTE\n",
       "2       OBRI...</td>\n",
       "    </tr>\n",
       "    <tr>\n",
       "      <th>98</th>\n",
       "      <td>Mais uma vez eu gostaria de destacar os itens...</td>\n",
       "      <td>False</td>\n",
       "      <td>0           VEZ\n",
       "1      GOSTARIA\n",
       "2      DESTACA...</td>\n",
       "    </tr>\n",
       "    <tr>\n",
       "      <th>99</th>\n",
       "      <td>Presidente nós temos com eu disse duas premis...</td>\n",
       "      <td>False</td>\n",
       "      <td>0     PRESIDENTE\n",
       "1          DISSE\n",
       "2           ...</td>\n",
       "    </tr>\n",
       "  </tbody>\n",
       "</table>\n",
       "<p>100 rows × 3 columns</p>\n",
       "</div>"
      ],
      "text/plain": [
       "                                            discursos  revisao  \\\n",
       "0    Muito obrigado Presidente  Volto mais uma vez...    False   \n",
       "1    Presidente nós da Oposição estamos defendendo...    False   \n",
       "2    Povo brasileiro eles têm método  Bolsonaro va...    False   \n",
       "3    Sr Presidente inicio dizendo à Deputada Bia K...    False   \n",
       "4    Obrigado Presidente Luiz Lima  Quero cumprime...    False   \n",
       "..                                                ...      ...   \n",
       "95   O PT orienta sim Presidente porque este Congr...    False   \n",
       "96   Presidente Marcelo Ramos quero trazer aqui a ...    False   \n",
       "97   Sr Presidente muito obrigado pela gentileza  ...    False   \n",
       "98   Mais uma vez eu gostaria de destacar os itens...    False   \n",
       "99   Presidente nós temos com eu disse duas premis...    False   \n",
       "\n",
       "                                               termos  \n",
       "0   0        OBRIGADO\n",
       "1      PRESIDENTE\n",
       "2         ...  \n",
       "1   0      PRESIDENTE\n",
       "1        OPOSIÇÃO\n",
       "2      DEF...  \n",
       "2   0            POVO\n",
       "1      BRASILEIRO\n",
       "2         ...  \n",
       "3   0                  SR\n",
       "1          PRESIDENTE\n",
       "2 ...  \n",
       "4   0        OBRIGADO\n",
       "1      PRESIDENTE\n",
       "2         ...  \n",
       "..                                                ...  \n",
       "95  0             PT\n",
       "1        ORIENTA\n",
       "2           ...  \n",
       "96  0      PRESIDENTE\n",
       "1         MARCELO\n",
       "2         ...  \n",
       "97  0             SR\n",
       "1     PRESIDENTE\n",
       "2       OBRI...  \n",
       "98  0           VEZ\n",
       "1      GOSTARIA\n",
       "2      DESTACA...  \n",
       "99  0     PRESIDENTE\n",
       "1          DISSE\n",
       "2           ...  \n",
       "\n",
       "[100 rows x 3 columns]"
      ]
     },
     "execution_count": 231,
     "metadata": {},
     "output_type": "execute_result"
    }
   ],
   "source": [
    "df_discursos"
   ]
  },
  {
   "cell_type": "markdown",
   "metadata": {},
   "source": [
    "## 4 Contagem de termos"
   ]
  },
  {
   "cell_type": "code",
   "execution_count": 237,
   "metadata": {},
   "outputs": [
    {
     "ename": "AttributeError",
     "evalue": "'Series' object has no attribute 'value_count'",
     "output_type": "error",
     "traceback": [
      "\u001b[0;31m---------------------------------------------------------------------------\u001b[0m",
      "\u001b[0;31mAttributeError\u001b[0m                            Traceback (most recent call last)",
      "\u001b[1;32m/home/jonasfelipe/UFPB/OpenSpeech/limpeza.ipynb Cell 16\u001b[0m in \u001b[0;36m<cell line: 1>\u001b[0;34m()\u001b[0m\n\u001b[0;32m----> <a href='vscode-notebook-cell:/home/jonasfelipe/UFPB/OpenSpeech/limpeza.ipynb#X42sZmlsZQ%3D%3D?line=0'>1</a>\u001b[0m df_discursos[\u001b[39m'\u001b[39;49m\u001b[39mtermos\u001b[39;49m\u001b[39m'\u001b[39;49m][\u001b[39m0\u001b[39;49m]\u001b[39m.\u001b[39;49mvalue_count()\n",
      "File \u001b[0;32m~/.local/lib/python3.8/site-packages/pandas/core/generic.py:5575\u001b[0m, in \u001b[0;36mNDFrame.__getattr__\u001b[0;34m(self, name)\u001b[0m\n\u001b[1;32m   5568\u001b[0m \u001b[39mif\u001b[39;00m (\n\u001b[1;32m   5569\u001b[0m     name \u001b[39mnot\u001b[39;00m \u001b[39min\u001b[39;00m \u001b[39mself\u001b[39m\u001b[39m.\u001b[39m_internal_names_set\n\u001b[1;32m   5570\u001b[0m     \u001b[39mand\u001b[39;00m name \u001b[39mnot\u001b[39;00m \u001b[39min\u001b[39;00m \u001b[39mself\u001b[39m\u001b[39m.\u001b[39m_metadata\n\u001b[1;32m   5571\u001b[0m     \u001b[39mand\u001b[39;00m name \u001b[39mnot\u001b[39;00m \u001b[39min\u001b[39;00m \u001b[39mself\u001b[39m\u001b[39m.\u001b[39m_accessors\n\u001b[1;32m   5572\u001b[0m     \u001b[39mand\u001b[39;00m \u001b[39mself\u001b[39m\u001b[39m.\u001b[39m_info_axis\u001b[39m.\u001b[39m_can_hold_identifiers_and_holds_name(name)\n\u001b[1;32m   5573\u001b[0m ):\n\u001b[1;32m   5574\u001b[0m     \u001b[39mreturn\u001b[39;00m \u001b[39mself\u001b[39m[name]\n\u001b[0;32m-> 5575\u001b[0m \u001b[39mreturn\u001b[39;00m \u001b[39mobject\u001b[39;49m\u001b[39m.\u001b[39;49m\u001b[39m__getattribute__\u001b[39;49m(\u001b[39mself\u001b[39;49m, name)\n",
      "\u001b[0;31mAttributeError\u001b[0m: 'Series' object has no attribute 'value_count'"
     ]
    }
   ],
   "source": [
    "df_discursos['termos'][0].value_count()"
   ]
  },
  {
   "cell_type": "code",
   "execution_count": null,
   "metadata": {},
   "outputs": [],
   "source": []
  }
 ],
 "metadata": {
  "kernelspec": {
   "display_name": "Python 3.8.10 64-bit",
   "language": "python",
   "name": "python3"
  },
  "language_info": {
   "codemirror_mode": {
    "name": "ipython",
    "version": 3
   },
   "file_extension": ".py",
   "mimetype": "text/x-python",
   "name": "python",
   "nbconvert_exporter": "python",
   "pygments_lexer": "ipython3",
   "version": "3.8.10"
  },
  "orig_nbformat": 4,
  "vscode": {
   "interpreter": {
    "hash": "916dbcbb3f70747c44a77c7bcd40155683ae19c65e1c03b4aa3499c5328201f1"
   }
  }
 },
 "nbformat": 4,
 "nbformat_minor": 2
}
