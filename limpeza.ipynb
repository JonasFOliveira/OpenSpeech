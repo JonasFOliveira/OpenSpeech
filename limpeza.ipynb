{
 "cells": [
  {
   "cell_type": "code",
   "execution_count": 13,
   "metadata": {},
   "outputs": [],
   "source": [
    "import os\n",
    "import re"
   ]
  },
  {
   "cell_type": "code",
   "execution_count": 24,
   "metadata": {},
   "outputs": [
    {
     "data": {
      "text/plain": [
       "'[O SR. GENERAL PETERNELLI ]+[(UNIÃ\\x83O - SP. Para discursar. Sem revisÃ£o do orador.) - Presidente Rodrigo Pacheco, Senador Veneziano, Senador Alvaro Dias, autor desta brilhante proposta, nosso General Penteado, do Gabinete de SeguranÃ§a Institucional, autoridades, ressaltando a nossa Deputada Soraya Manato, o Deputado Zacharias Calil, que foi o Presidente da ComissÃ£o, e o Deputado Hiran GonÃ§alves, Presidente da Frente Parlamentar da Medicina, eu gostaria de lembrar que o prÃ³prio art. 196 da ConstituiÃ§Ã£o diz que a saÃºde Ã© um direito de todos. E Ã© exatamente isso, Senador Alvaro Dias, que a PEC 517 aborda. Nesse contexto, ela possibilita o maior acesso Ã\\xa0 medicina nuclear., , E o que Ã© medicina nuclear, de que estamos falando, para muitos que assistem, e do que ela se reveste? Ela Ã© oriunda do radiofÃ¡rmaco radioisÃ³topo, que Ã© uma substÃ¢ncia radioativa. Quando ele Ã© injetado no paciente, para fazer um exame, ele permite uma qualidade do exame muito mais preciso, possibilitando que diagnÃ³sticos e tratamentos do cÃ¢ncer, diagnÃ³sticos cardÃ\\xadacos, diagnÃ³sticos da tireoide e outros possam ser analisados e verificados com uma atividade muito mais precoce., , Essa sequÃªncia comeÃ§ou quando o Congresso Nacional aprovou, em 2006, que se permitisse a fabricaÃ§Ã£o por todos de radiofÃ¡rmacos de curta duraÃ§Ã£o, de atÃ© duas horas., , Muito bem posicionado, o Senador Alvaro Dias, em 2007, apresentou a PEC 517. Essa PEC foi aprovada no Senado em 2010. Muito tempo depois, atravÃ©s do Gabinete de SeguranÃ§a Institucional, nÃ³s pudemos, vÃ¡rios Deputados mÃ©dicos que aqui estÃ£o presentes, ter a oportunidade de conhecer a importÃ¢ncia que a PEC tinha e como isso era importante para o cidadÃ£o brasileiro., , SÃ³ como uma comparaÃ§Ã£o, na prÃ³pria Argentina, a utilizaÃ§Ã£o , <i>per capita</i>,  da medicina nuclear Ã© trÃªs vezes maior., , Nesse contexto, nÃ³s tivemos esse dado e, no inÃ\\xadcio de 2020, tivemos a pandemia, mas, nesse foco, ocorreu um trabalho muito grande desses Deputados vinculados Ã\\xa0 saÃºde, que permitiu que o Presidente Arthur Lira pudesse constituir uma ComissÃ£o Especial para tratar desse assunto. Esta ComissÃ£o Especial teve a PresidÃªncia do Deputado Zacharias Calil.  Eu tive a oportunidade de ser designado Relator, de aprovar toda a sequÃªncia de trabalho e de ouvir inÃºmeras pessoas especialistas nesse tema., , Tivemos oportunidade de visitar o Ipen e todos, basicamente, mostraram-se favorÃ¡veis. Gostaria de citar aqui que a AssociaÃ§Ã£o MÃ©dica Brasileira formalizou parecer nesse sentido, representando, juntamente com a Sociedade Brasileira de Energia Nuclear, a Sociedade Brasileira de Medicina Nuclear, da Radioterapia, da Oncologia ClÃ\\xadnica, da Cirurgia OncolÃ³gica, da Sociedade Brasileira de Cardiologia, da AssociaÃ§Ã£o Brasileira para o Desenvolvimento da Atividade Nuclear e do Conselho Federal de Medicina, aqui representado, e essas associaÃ§Ãµes, muito nos orgulha a presenÃ§a neste momento..., , NÃ³s tambÃ©m tivemos a ComissÃ£o Nacional da Energia Nuclear e uma curiosidade: o MinistÃ©rio da CiÃªncia e Tecnologia, desde 2014, coloca parecer favorÃ¡vel Ã\\xa0 PEC do senhor, Senador Alvaro Dias, o que colabora muito mais com o foco da importÃ¢ncia desse trabalho., , O momento tambÃ©m Ã© oportuno para salientar ao Congresso Nacional e ao Executivo a importÃ¢ncia de investimentos no Reator MultipropÃ³sito. Ele Ã© que vai poder propiciar a matÃ©ria prima com que esses laboratÃ³rios vÃ£o fabricar o radiofÃ¡rmaco., , EntÃ£o chamo a atenÃ§Ã£o de que nÃ³s temos que dar uma atenÃ§Ã£o especial nesse contexto., , E, terminando as palavras, de uma maneira muito resumida, eu sÃ³ tenho a agradecer. E tenho a plena convicÃ§Ã£o de que nÃ³s estamos cumprindo o art. 3Âº, inciso IV, da nossa ConstituiÃ§Ã£o, que diz que todos nÃ³s temos que visar ao bem comum do povo brasileiro. , , Muito obrigado., , Muito obrigado a todos e parabÃ©ns, mais uma vez, ao Senador Alvaro Dias; parabÃ©ns Ã\\xa0 CÃ¢mara dos Deputados, parabÃ©ns ao Senado e parabÃ©ns ao Congresso Nacional., , Muito obrigado., , Felicidades. (, <i>Palmas.</i>, )]\\n'"
      ]
     },
     "execution_count": 24,
     "metadata": {},
     "output_type": "execute_result"
    }
   ],
   "source": [
    "file = open('discursos/nI1nQ0nS011nO0.txt', 'r')\n",
    "text = file.read()\n",
    "file.close\n",
    "text"
   ]
  },
  {
   "cell_type": "code",
   "execution_count": 15,
   "metadata": {},
   "outputs": [],
   "source": [
    "df_discursos = []\n",
    "for i in os.listdir('discursos'):\n",
    "    file = open(f'discursos/{i}', 'r', encoding = 'ISO-8859-1')\n",
    "    text = file.read()\n",
    "    df_discursos.append(text)\n",
    "    file.close  \n"
   ]
  },
  {
   "cell_type": "code",
   "execution_count": 16,
   "metadata": {},
   "outputs": [
    {
     "data": {
      "text/plain": [
       "'[O SR. FRANCO CARTAFINA ]+[(PP - MG. Sem revisÃ£o do orador.) - Muito obrigado, Presidente., , Volto, mais uma vez, a essa tribuna para dizer que nÃ³s apresentamos o Projeto de Lei nÂº 2.467, no ano passado, que aguarda, obviamente, os pareceres das ComissÃµes, especialmente o parecer da ComissÃ£o de ViaÃ§Ã£o e Transportes. Eu acredito que, em breve, nÃ³s teremos as ComissÃµes instaladas. Ele trata especificamente do CÃ³digo de TrÃ¢nsito Brasileiro e de resoluÃ§Ãµes do CONTRAN e da ANP, que simplesmente proÃ\\xadbem que a nossa turma - e aqui vai um recado para todos do Brasil, especialmente para aqueles de Minas Gerais - faÃ§a a distribuiÃ§Ã£o de gÃ¡s de cozinha e de Ã¡gua mineral., , Eles nÃ£o podem, atravÃ©s dessas resoluÃ§Ãµes, fazer o transporte em uma motocicleta de dois botijÃµes de gÃ¡s de cozinha ou de dois galÃµes de 20 litros de Ã¡gua mineral. Foi estabelecido que seria obrigatÃ³rio que eles fizessem isso - estÃ¡ estabelecido em resoluÃ§Ãµes, como eu disse aqui - por meio do , <i>sidecar</i>,  ou do reboque, que sÃ£o absolutamente onerosos para esses empresÃ¡rios, que tÃªm muitos funcionÃ¡rios. Hoje, quando vÃ£o fazer entrega nos MunicÃ\\xadpios, quando precisam ir ao centro da cidade, ir a locais onde o fluxo de automÃ³veis Ã© muito grande, com o , <i>sidecar</i>,  ou o semirreboque Ã© muito complicado estacionar nesses locais. Por isso, defendemos totalmente que, com as adequaÃ§Ãµes do INMETRO, com tudo sendo regularizado, eles possam transportar dois botijÃµes de gÃ¡s ou dois galÃµes de Ã¡gua mineral na motocicleta. Isso poderia tranquilamente acontecer. Afinal, se a questÃ£o a que nos referimos Ã© o perigo, se o acidente acontecer com uma moto com dois galÃµes de Ã¡gua ou dois botijÃµes de gÃ¡s de cozinha, o , <i>sidecar</i>,  ou o reboque vÃ£o ter 4, 5 ou 6 botijÃµes ou galÃµes., , EntÃ£o, a minha sensibilidade Ã© porque, no momento em que vemos o preÃ§o do gÃ¡s de cozinha subindo, seria muito melhor que esta Casa desburocratizasse o transporte, a entrega desses distribuidores, que estÃ£o sofrendo lÃ¡ na ponta para entregar essas questÃµes elementares, tanto o galÃ£o de Ã¡gua, quanto o botijÃ£o de gÃ¡s, para as famÃ\\xadlias. Estamos tentando demonstrar que nÃ£o faz sentido essa proibiÃ§Ã£o, porque, quando oneramos o distribuidor, naturalmente essa despesa vai lÃ¡ para a ponta, para o consumidor., , Fica aqui, entÃ£o, mais uma vez, a minha defesa aos distribuidores de gÃ¡s e de Ã¡gua. Espero que possamos avanÃ§ar com esse projeto e mudar a realidade que Ã© hoje instalada pela legislaÃ§Ã£o no Brasil.]\\n'"
      ]
     },
     "execution_count": 16,
     "metadata": {},
     "output_type": "execute_result"
    }
   ],
   "source": [
    "df_discursos[0]"
   ]
  },
  {
   "cell_type": "code",
   "execution_count": 17,
   "metadata": {},
   "outputs": [
    {
     "data": {
      "text/plain": [
       "'[O SR. CLAUDIO CAJADO ]+[(Bloco/PP - BA. Para orientar a bancada. Sem revisÃ£o do orador.) - Presidente, nÃ³s temos, com eu disse, duas premissas no Governo Bolsonaro: a Lei de Responsabilidade Fiscal e o cumprimento do teto de gastos. Duas leis que nÃ³s votamos nesta Casa e que sÃ£o parÃ¢metros, principalmente no momento em que o Brasil estÃ¡ entrando na OCDE. NÃ³s nÃ£o podemos nos desviar do caminho que sempre mostra a melhor opÃ§Ã£o., , Diante disso, governar Ã© fazer escolhas e prioridades..., , <table width=\"100%\"><tr><td align=\"center\">(<i>Soa a campainha.</i>)</td></tr></table>, , O SR. CLAUDIO CAJADO , (Bloco/PP - BA) - ... e a peÃ§a orÃ§amentÃ¡ria foi votada pelo Congresso Nacional, escolhendo as suas prioridades, e este veto, mantido, darÃ¡ duas condiÃ§Ãµes. Primeiro, de liberar os recursos do crÃ©dito Safra, atravÃ©s do qual o agronegÃ³cio tem sustentado basicamente um dos pilares da economia brasileira. E, segundo, a recomposiÃ§Ã£o do reajuste dos servidores. , , Por isso, a orientaÃ§Ã£o do Governo Ã© \"sim\". (, <i>Pausa.</i>, ), , O SR. PRESIDENTE , (Marcelo Ramos. PSD - AM) - Vamos lÃ¡, orientar pelo PROS. ]\\n'"
      ]
     },
     "execution_count": 17,
     "metadata": {},
     "output_type": "execute_result"
    }
   ],
   "source": [
    "text"
   ]
  },
  {
   "cell_type": "code",
   "execution_count": 18,
   "metadata": {},
   "outputs": [],
   "source": [
    "#Criando lista com todos os conectivos da lingua portuguesa\n",
    "import pandas as pd\n",
    "\n",
    "conectivos = pd.read_html('https://duvidas.dicio.com.br/conectivos/')\n",
    "\n",
    "a = conectivos[0]['Exemplos:']\n",
    "conectivos_lista = []\n",
    "for i in a:\n",
    "    conectivos_lista.append(i)\n",
    "conectivos_lista = \" \".join(conectivos_lista)\n",
    "\n",
    "conectivos_lista = conectivos_lista.replace('; ', ' ').replace('… ', ' ').split(' ')\n",
    "conectivos_lista = list(dict.fromkeys(conectivos_lista))\n"
   ]
  },
  {
   "cell_type": "code",
   "execution_count": 19,
   "metadata": {},
   "outputs": [],
   "source": [
    "termo = re.findall(r'(?<=\\[).*(?=\\]\\+)', text)\n",
    "teste = text.replace(termo[0], '')"
   ]
  },
  {
   "cell_type": "code",
   "execution_count": 20,
   "metadata": {},
   "outputs": [
    {
     "data": {
      "text/plain": [
       "'[O SR. ELI BORGES ]+[(SOLIDARIEDADE - TO. Como LÃ\\xadder. Sem revisÃ£o do orador.) - Sr. Presidente, inicio dizendo Ã\\xa0 Deputada Bia Kicis que votei contra a prisÃ£o do Deputado Daniel Silveira. Conte com o Deputado Eli Borges, porque Ã© um absurdo o que o Supremo estÃ¡ fazendo contra este Deputado e contra a honra do Parlamento brasileiro., , Sr. Presidente, hoje, em um tom diferente do que me Ã© caracterÃ\\xadstico, estou me perguntando e atÃ© me beliscando para ver se eu estou ouvindo corretamente os debates, quando um determinado partido trouxe Ã\\xa0 baila o sÃ©timo mandamento da BÃ\\xadblia Sagrada, que diz: , <i>\"NÃ£o roubarÃ¡s\"</i>, ., , Eu queria fazer uma pergunta aqui para o Sr. JoÃ£o Vaccari Neto, para JosÃ© Dirceu, para JosÃ© GenoÃ\\xadno, para Lula, para DelÃºbio Soares, para AntÃ´nio Palocci e para tantos outros: porventura vocÃªs nÃ£o leram o sÃ©timo mandamento? Porventura a totalidade dessa cÃºpula nÃ£o leu o sÃ©timo mandamento?, , SerÃ¡ que dois pastores representam, nesse episÃ³dio, mais de 200 mil pastores nesta NaÃ§Ã£o? SerÃ¡ que a instituiÃ§Ã£o Igreja nÃ£o deve ser mais respeitada neste Parlamento? Dois pastores erraram - se Ã© que erraram - e devem pagar pelo seu erro. Se o Ministro errou, a Igreja entende que ele tambÃ©m tem que pagar., , Todavia, apenas dois figurantes, Prefeitos e um Ministro nÃ£o representam, Sr. Presidente, mais de 200 mil pastores, cerca de 80 milhÃµes de brasileiros que professam a fÃ©, que defendem o princÃ\\xadpio da honestidade, que discordaram de figurantes da polÃ\\xadtica brasileira, que nÃ£o conheceram o sÃ©timo mandamento e que agora vÃªm trazer isso Ã\\xa0 baila., , SerÃ¡ que sofrem do mal de Alzheimer? SerÃ¡ que se esqueceram, como num passe de mÃ¡gica, para trazer a esta tribuna a verbalizaÃ§Ã£o de uma moral falsa, mentirosa, daqueles que nÃ£o viveram e que nÃ£o conhecem o princÃ\\xadpio bÃ\\xadblico de que , <i>\"pelo fruto se conhece a Ã¡rvore\"</i>, ?, , VÃ£o atrÃ¡s dos processos! NÃ£o adianta condenar apenas um cidadÃ£o, porque esse processo percorreu trÃªs instÃ¢ncias. E, olhem, hÃ¡ mais coisa que pode vir a baila ainda. VÃ£o a outros paÃ\\xadses e vejam onde estÃ£o os bilhÃµes de reais de um PaÃ\\xads sofrido investidos em outros paÃ\\xadses. Isso Ã© fato, e contra fatos nÃ£o hÃ¡ argumento., , Respeitem a Igreja! Respeitem os mais de 200 mil pastores!, , Aqui, Presidente, eu quero me dirigir a uma parcela de evangÃ©licos deste PaÃ\\xads que ainda insiste em votar em Governo de esquerda: aqui, nas verbalizaÃ§Ãµes de Deputados Federais que representam esses partidos, mostrou-se em gÃªnero, nÃºmero e grau que eles nos odeiam. Nem ressalva fizeram!, , E eu quero me dirigir a esses milhÃµes de irmÃ£os deste PaÃ\\xads, para que agora se lembrem dos seus pastores. VocÃªs sabem que eles sÃ£o decentes., , Mas, numa tentativa de macular a imagem de uma instituiÃ§Ã£o tÃ£o sÃ©ria, fazem dessa forma. Que vergonha!, , PeÃ§o mais 30 segundos, Presidente., , Eu espero que esse partido, que nÃ£o obedeceu ao sÃ©timo mandamento, que sofre do mal de Alzheimer, tenha vergonha, a partir de hoje, de pedir o voto de milhÃµes de brasileiros que nÃ£o sÃ£o representados por apenas dois LÃ\\xadderes. Se eles erraram... Eu estava calculando matematicamente aqui, Sr. Presidente: Ã© 0,00001%. Somos mais de 200 mil., , Por favor, entÃ£o, nÃ£o os procurem nas eleiÃ§Ãµes, jÃ¡ que vocÃªs nÃ£o demonstram nenhum respeito pela Igreja nesta NaÃ§Ã£o!, , Presidente, fica o registro e o pedido para que o meu pronunciamento seja divulgado no programa , <i>A Voz do Brasil</i>, .]\\n'"
      ]
     },
     "execution_count": 20,
     "metadata": {},
     "output_type": "execute_result"
    }
   ],
   "source": [
    "df_discursos[3]"
   ]
  },
  {
   "cell_type": "code",
   "execution_count": 21,
   "metadata": {},
   "outputs": [
    {
     "name": "stdout",
     "output_type": "stream",
     "text": [
      "0\n",
      "1\n",
      "2\n",
      "3\n",
      "4\n",
      "5\n",
      "6\n",
      "7\n",
      "8\n",
      "9\n",
      "10\n",
      "11\n",
      "12\n",
      "13\n",
      "14\n",
      "15\n",
      "16\n",
      "17\n",
      "18\n",
      "19\n",
      "20\n",
      "21\n",
      "22\n",
      "23\n",
      "24\n",
      "25\n",
      "26\n",
      "27\n",
      "28\n",
      "29\n",
      "30\n",
      "31\n",
      "32\n",
      "33\n",
      "34\n",
      "35\n",
      "36\n",
      "37\n",
      "38\n",
      "39\n",
      "40\n",
      "41\n",
      "42\n",
      "43\n",
      "44\n",
      "45\n",
      "46\n",
      "47\n",
      "48\n",
      "49\n",
      "50\n",
      "51\n",
      "52\n",
      "53\n",
      "54\n",
      "55\n",
      "56\n",
      "57\n",
      "58\n",
      "59\n",
      "60\n",
      "61\n",
      "62\n",
      "63\n",
      "64\n",
      "65\n",
      "66\n",
      "67\n",
      "68\n",
      "69\n",
      "70\n",
      "71\n",
      "72\n",
      "73\n",
      "74\n",
      "75\n",
      "76\n",
      "77\n",
      "78\n",
      "79\n",
      "80\n",
      "81\n",
      "82\n",
      "83\n",
      "84\n",
      "85\n",
      "86\n",
      "87\n",
      "88\n",
      "89\n",
      "90\n",
      "91\n",
      "92\n",
      "93\n",
      "94\n",
      "95\n",
      "96\n",
      "97\n",
      "98\n",
      "99\n"
     ]
    }
   ],
   "source": [
    "for i in range(len(df_discursos)):\n",
    "    if(not(re.search(r'Sem revisão', df_discursos[i]))):\n",
    "        print(i)\n",
    "        #Aqui nessa func quando não encontra o nome \"Sem revisão\" ele printa o texto para a gente ver\n",
    "        #Ta vendo que ta bugado?"
   ]
  },
  {
   "cell_type": "code",
   "execution_count": 22,
   "metadata": {},
   "outputs": [
    {
     "data": {
      "text/plain": [
       "'[]+[(Bloco/PP - BA. Para orientar a bancada. Sem revisÃ£o do orador.) - Presidente, nÃ³s temos, com eu disse, duas premissas no Governo Bolsonaro: a Lei de Responsabilidade Fiscal e o cumprimento do teto de gastos. Duas leis que nÃ³s votamos nesta Casa e que sÃ£o parÃ¢metros, principalmente no momento em que o Brasil estÃ¡ entrando na OCDE. NÃ³s nÃ£o podemos nos desviar do caminho que sempre mostra a melhor opÃ§Ã£o., , Diante disso, governar Ã© fazer escolhas e prioridades..., , <table width=\"100%\"><tr><td align=\"center\">(<i>Soa a campainha.</i>)</td></tr></table>, , , (Bloco/PP - BA) - ... e a peÃ§a orÃ§amentÃ¡ria foi votada pelo Congresso Nacional, escolhendo as suas prioridades, e este veto, mantido, darÃ¡ duas condiÃ§Ãµes. Primeiro, de liberar os recursos do crÃ©dito Safra, atravÃ©s do qual o agronegÃ³cio tem sustentado basicamente um dos pilares da economia brasileira. E, segundo, a recomposiÃ§Ã£o do reajuste dos servidores. , , Por isso, a orientaÃ§Ã£o do Governo Ã© \"sim\". (, <i>Pausa.</i>, ), , O SR. PRESIDENTE , (Marcelo Ramos. PSD - AM) - Vamos lÃ¡, orientar pelo PROS. ]\\n'"
      ]
     },
     "execution_count": 22,
     "metadata": {},
     "output_type": "execute_result"
    }
   ],
   "source": [
    "teste"
   ]
  }
 ],
 "metadata": {
  "kernelspec": {
   "display_name": "Python 3.8.10 64-bit",
   "language": "python",
   "name": "python3"
  },
  "language_info": {
   "codemirror_mode": {
    "name": "ipython",
    "version": 3
   },
   "file_extension": ".py",
   "mimetype": "text/x-python",
   "name": "python",
   "nbconvert_exporter": "python",
   "pygments_lexer": "ipython3",
   "version": "3.8.10"
  },
  "orig_nbformat": 4,
  "vscode": {
   "interpreter": {
    "hash": "916dbcbb3f70747c44a77c7bcd40155683ae19c65e1c03b4aa3499c5328201f1"
   }
  }
 },
 "nbformat": 4,
 "nbformat_minor": 2
}
