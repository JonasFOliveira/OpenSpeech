{
 "cells": [
  {
   "cell_type": "code",
   "execution_count": 32,
   "metadata": {},
   "outputs": [
    {
     "ename": "ImportError",
     "evalue": "cannot import name 'SpeechLinks' from 'functions' (/home/sam/OpenSpeech/functions.py)",
     "output_type": "error",
     "traceback": [
      "\u001b[0;31m---------------------------------------------------------------------------\u001b[0m",
      "\u001b[0;31mImportError\u001b[0m                               Traceback (most recent call last)",
      "\u001b[1;32m/home/sam/OpenSpeech/camara.ipynb Cell 1'\u001b[0m in \u001b[0;36m<cell line: 7>\u001b[0;34m()\u001b[0m\n\u001b[1;32m      <a href='vscode-notebook-cell:/home/sam/OpenSpeech/camara.ipynb#ch0000012?line=4'>5</a>\u001b[0m \u001b[39mimport\u001b[39;00m \u001b[39mos\u001b[39;00m\n\u001b[1;32m      <a href='vscode-notebook-cell:/home/sam/OpenSpeech/camara.ipynb#ch0000012?line=5'>6</a>\u001b[0m \u001b[39mimport\u001b[39;00m \u001b[39mfunctions\u001b[39;00m\n\u001b[0;32m----> <a href='vscode-notebook-cell:/home/sam/OpenSpeech/camara.ipynb#ch0000012?line=6'>7</a>\u001b[0m \u001b[39mfrom\u001b[39;00m \u001b[39mfunctions\u001b[39;00m \u001b[39mimport\u001b[39;00m SpeechLinks\n",
      "\u001b[0;31mImportError\u001b[0m: cannot import name 'SpeechLinks' from 'functions' (/home/sam/OpenSpeech/functions.py)"
     ]
    }
   ],
   "source": [
    "import requests\n",
    "import re\n",
    "import pandas as pd\n",
    "from bs4 import BeautifulSoup\n",
    "import os\n",
    "import functions\n",
    "from functions import SpeechLinks"
   ]
  },
  {
   "cell_type": "markdown",
   "metadata": {},
   "source": [
    "### 1) Criar um data frame com as informações do site"
   ]
  },
  {
   "cell_type": "code",
   "execution_count": null,
   "metadata": {},
   "outputs": [],
   "source": [
    "df = functions.SearchSpeech(data_inicio=[28, 3, 2022], data_fim=[28, 4, 2022], tamanho=100)\n",
    "df"
   ]
  },
  {
   "cell_type": "markdown",
   "metadata": {},
   "source": [
    "### 2) Criar uma lista com todos os links para os discursos"
   ]
  },
  {
   "cell_type": "code",
   "execution_count": 26,
   "metadata": {},
   "outputs": [
    {
     "ename": "AttributeError",
     "evalue": "module 'functions' has no attribute 'teste'",
     "output_type": "error",
     "traceback": [
      "\u001b[0;31m---------------------------------------------------------------------------\u001b[0m",
      "\u001b[0;31mAttributeError\u001b[0m                            Traceback (most recent call last)",
      "\u001b[1;32m/home/sam/OpenSpeech/camara.ipynb Cell 5'\u001b[0m in \u001b[0;36m<cell line: 1>\u001b[0;34m()\u001b[0m\n\u001b[0;32m----> <a href='vscode-notebook-cell:/home/sam/OpenSpeech/camara.ipynb#ch0000019?line=0'>1</a>\u001b[0m links \u001b[39m=\u001b[39m functions\u001b[39m.\u001b[39;49mteste()\n\u001b[1;32m      <a href='vscode-notebook-cell:/home/sam/OpenSpeech/camara.ipynb#ch0000019?line=1'>2</a>\u001b[0m links\n",
      "\u001b[0;31mAttributeError\u001b[0m: module 'functions' has no attribute 'teste'"
     ]
    }
   ],
   "source": [
    "links = functions.SpeechLinks()\n",
    "links"
   ]
  }
 ],
 "metadata": {
  "interpreter": {
   "hash": "916dbcbb3f70747c44a77c7bcd40155683ae19c65e1c03b4aa3499c5328201f1"
  },
  "kernelspec": {
   "display_name": "Python 3.8.10 64-bit",
   "language": "python",
   "name": "python3"
  },
  "language_info": {
   "codemirror_mode": {
    "name": "ipython",
    "version": 3
   },
   "file_extension": ".py",
   "mimetype": "text/x-python",
   "name": "python",
   "nbconvert_exporter": "python",
   "pygments_lexer": "ipython3",
   "version": "3.8.10"
  },
  "orig_nbformat": 4
 },
 "nbformat": 4,
 "nbformat_minor": 2
}
