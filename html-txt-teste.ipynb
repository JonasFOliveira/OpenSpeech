{
 "cells": [
  {
   "cell_type": "code",
   "execution_count": null,
   "metadata": {},
   "outputs": [],
   "source": [
    "#primeiro método que retorna txt\n",
    "\n",
    "# importa as bibliotecas\n",
    "from bs4 import BeautifulSoup\n",
    "from urllib import request\n",
    " \n",
    "# Inicializa a variável\n",
    "url = \"https://www.camara.leg.br/internet/sitaqweb/TextoHTML.asp?etapa=5&nuSessao=14.2022.N&nuQuarto=569757&nuOrador=5&nuInsercao=5&dtHorarioQuarto=16:32&sgFaseSessao=HO&Data=05/05/2022&txApelido=ARTHUR%20LIRA,%20PP-AL&txFaseSessao=Homenagem&txTipoSessao=N%C3%A3o%20Deliberativa%20Solene%20-%20CD&dtHoraQuarto=16:32&txEtapa=\"\n",
    "gfg = BeautifulSoup(request.urlopen(url).read())\n",
    " \n",
    "# Extraindo a data da seção artigo\n",
    "bodyHtml = gfg.find('article', {'class' : 'content'}) # essa é a parte que precisa de edição\n",
    " \n",
    "# Calculando o resultado\n",
    "res = bodyHtml.get_text()\n",
    " \n",
    "# Imprimindo o Resultado\n",
    "print(res)\n",
    "\n",
    "\n",
    "#segundo método que retorna lista\n",
    "\n",
    "#determina as variáveis\n",
    "url = \"https://www.camara.leg.br/internet/sitaqweb/TextoHTML.asp?etapa=5&nuSessao=14.2022.N&nuQuarto=569757&nuOrador=5&nuInsercao=5&dtHorarioQuarto=16:32&sgFaseSessao=HO&Data=05/05/2022&txApelido=ARTHUR%20LIRA,%20PP-AL&txFaseSessao=Homenagem&txTipoSessao=N%C3%A3o%20Deliberativa%20Solene%20-%20CD&dtHoraQuarto=16:32&txEtapa=\"\n",
    "html = urlopen(url).read()\n",
    "soup = BeautifulSoup(html)\n",
    "\n",
    "#Decomponhe o texto dentro da url a partir do BeautifulSoup\n",
    "for script in soup([\"script\", \"style\"]):\n",
    "    script.decompose()\n",
    "\n",
    "#Coloca o resultado em uma lista\n",
    "strips = list(soup.stripped_strings)#remove os espaços em branco(\\n)\n",
    "print(strips[:5])"
   ]
  }
 ],
 "metadata": {
  "interpreter": {
   "hash": "88cfb58b5e1f0a731e390467de9494844f1d9ab6b68e6e53846efed9b86eb32f"
  },
  "kernelspec": {
   "display_name": "Python 3.9.6 64-bit",
   "language": "python",
   "name": "python3"
  },
  "language_info": {
   "codemirror_mode": {
    "name": "ipython",
    "version": 3
   },
   "file_extension": ".py",
   "mimetype": "text/x-python",
   "name": "python",
   "nbconvert_exporter": "python",
   "pygments_lexer": "ipython3",
   "version": "3.9.6"
  },
  "orig_nbformat": 4
 },
 "nbformat": 4,
 "nbformat_minor": 2
}
